{
 "cells": [
  {
   "cell_type": "markdown",
   "metadata": {},
   "source": [
    "## Lab P7"
   ]
  },
  {
   "cell_type": "code",
   "execution_count": 1,
   "metadata": {},
   "outputs": [
    {
     "name": "stdout",
     "output_type": "stream",
     "text": [
      "6\n",
      "[(1000, 'Torbati', 'Yolanda', 'F', 'Programmer')\n",
      " (1002, 'Ginsburg', 'Laura', 'F', 'President')\n",
      " (1003, 'Cox', 'Jennifer', 'F', 'Programmer')\n",
      " (1006, 'Keyser', 'Cara', 'F', 'Account Executive')]\n"
     ]
    }
   ],
   "source": [
    "import numpy as np\n",
    "import re \n",
    "employee_table = np.array([\n",
    "    ('1000', 'Torbati', 'Yolanda', 'F', 'Programmer'),\n",
    "    ('1001', 'Kleinn', 'Joel', 'M', 'Programmer'),\n",
    "    ('1002', 'Ginsburg', 'Laura', 'F', 'President'),\n",
    "    ('1003', 'Cox', 'Jennifer', 'F', 'Programmer'),\n",
    "    ('1005', 'Ziada', 'Mauri', 'M', 'Product Designer'),\n",
    "    ('1006', 'Keyser', 'Cara', 'F', 'Account Executive'),\n",
    "    ('1010', 'Smith', 'Roixe', 'M', 'Programmer'),\n",
    "    ('1011', 'Nielson', 'Robert', 'M', 'Programmer'),\n",
    "    ('1012', 'Sachsen', 'Lars', 'M', 'Support Technician'),\n",
    "    ('1013', 'Shannon', 'Don', 'M', 'Product Designer'),\n",
    "],\n",
    "dtype=[\n",
    "    ('Emp_Id', np.int16),\n",
    "    ('Last_Name', (np.str_, 20)), \n",
    "    ('First_Name', (np.str_, 20)), \n",
    "    ('Gender', (np.str_, 1)), \n",
    "    ('Title', (np.str_, 30))\n",
    "])\n",
    "\n",
    "\n",
    "\n",
    "#print(employee_table)\n",
    "\n",
    "# first question\n",
    "print(len(employee_table[np.where(employee_table['Gender'] == 'M')]))\n",
    "\n",
    "#2 question\n",
    "# employees_with_s_last_name = employee_table[np.char.startswith(employee_table['Last_Name'], 'S')]\n",
    "# for employee in employees_with_s_last_name:\n",
    "#     print(employee)\n",
    "\n",
    "\n",
    "#3 Descending order based on first name \n",
    "# sorted_emps = np.argsort(employee_table['First_Name'], kind='quicksort')\n",
    "# print('\\n\\n')\n",
    "# for emp in employee_table[sorted_emps]:\n",
    "#     print(emp)\n",
    "\n",
    "\n",
    "#4 Extracting the table using fancy indexing\n",
    "# print(employee_table.reshape((2,5)))\n",
    "\n",
    "#5\n",
    "femaleSort = np.argsort(employee_table['First_Name'][employee_table['Gender'] == 'F'])[::-1]\n",
    "sorted_female_employees = employee_table[employee_table['Gender'] == 'F'][femaleSort]\n",
    "print(sorted_female_employees)\n",
    "\n",
    "\n",
    "\n",
    "\n",
    "\n",
    "\n",
    "\n",
    "\n"
   ]
  },
  {
   "cell_type": "markdown",
   "metadata": {},
   "source": [
    "## Lab P8"
   ]
  },
  {
   "cell_type": "code",
   "execution_count": 2,
   "metadata": {},
   "outputs": [
    {
     "name": "stdout",
     "output_type": "stream",
     "text": [
      "(77, 8)\n",
      "<bound method DataFrame.info of                                   Film    Genre            Lead Studio   \n",
      "0           Zack and Miri Make a Porno  Romance  The Weinstein Company  \\\n",
      "1                      Youth in Revolt   Comedy  The Weinstein Company   \n",
      "2   You Will Meet a Tall Dark Stranger   Comedy            Independent   \n",
      "3                         When in Rome   Comedy                 Disney   \n",
      "4                What Happens in Vegas   Comedy                    NaN   \n",
      "..                                 ...      ...                    ...   \n",
      "72                 Across the Universe  romance            Independent   \n",
      "73                       A Serious Man    Drama              Universal   \n",
      "74                  A Dangerous Method    Drama            Independent   \n",
      "75                          27 Dresses   Comedy                    Fox   \n",
      "76                (500) Days of Summer   comedy                    Fox   \n",
      "\n",
      "    Audience score %  Profitability  Rotten Tomatoes % Worldwide Gross    Year  \n",
      "0                 70       1.747542                 64         $41.94   2008.0  \n",
      "1                 52       1.090000                 68         $19.62   2010.0  \n",
      "2                 35       1.211818                 43         $26.66   2010.0  \n",
      "3                 44       0.000000                 15         $43.04      NaN  \n",
      "4                 72       6.267647                 28        $219.37   2008.0  \n",
      "..               ...            ...                ...             ...     ...  \n",
      "72                84       0.652603                 54         $29.37   2007.0  \n",
      "73                64       4.382857                 89         $30.68   2009.0  \n",
      "74                89       0.448645                 79          $8.97   2011.0  \n",
      "75                71       5.343622                 40        $160.31   2008.0  \n",
      "76                81       8.096000                 87         $60.72   2009.0  \n",
      "\n",
      "[77 rows x 8 columns]>\n",
      "Audience score %       719.000000\n",
      "Profitability           31.986636\n",
      "Rotten Tomatoes %      619.000000\n",
      "Year                 20090.000000\n",
      "dtype: float64\n"
     ]
    }
   ],
   "source": [
    "import pandas as pd\n",
    "\n",
    "\n",
    "movies = pd.read_csv(r'../csv_s/movies.csv')\n",
    "# movies.head(5)\n",
    "\n",
    "movies.describe()\n",
    "print(movies.shape)\n",
    "print(movies.info)\n",
    "\n",
    "# print(movies.isnull())\n",
    "\n",
    "\n",
    "#_------------------------------------------\n",
    "#df_dropna = movies.dropna()          # Delete rows with missing values\n",
    "# df_fillna = movies.fillna(\"RANDOM\")    \n",
    "# df_ffill = movies.ffill()            \n",
    "# df_bfill = movies.bfill()  \n",
    "#-------------------------------------------\n",
    "\n",
    "\n",
    "# movies.ffill(axis=0)\n",
    "\n",
    "# print(movies.isnull())\n",
    "# df1 = movies['Year'].isna()\n",
    "# print(df1)\n",
    "\n",
    "# ---- this is working ----------\n",
    "# f_new_movies = movies.ffill()\n",
    "# b_new_movies = movies.bfill()\n",
    "# print(movies.head(5))\n",
    "# print(f_new_movies.head(5))\n",
    "# print(b_new_movies.head(6))\n",
    "\n",
    "\n",
    "# print(movies.groupby(['Audience score %']).first(102).mean())\n",
    "\n",
    "# df2 =movies.groupby(['Genre']).first(40).sum()\n",
    "# print(df2)\n",
    "\n",
    "\n",
    "random_samples = movies.sample(20)\n"
   ]
  },
  {
   "cell_type": "code",
   "execution_count": null,
   "metadata": {},
   "outputs": [],
   "source": []
  }
 ],
 "metadata": {
  "kernelspec": {
   "display_name": "Python 3",
   "language": "python",
   "name": "python3"
  },
  "language_info": {
   "codemirror_mode": {
    "name": "ipython",
    "version": 3
   },
   "file_extension": ".py",
   "mimetype": "text/x-python",
   "name": "python",
   "nbconvert_exporter": "python",
   "pygments_lexer": "ipython3",
   "version": "3.11.3"
  },
  "orig_nbformat": 4
 },
 "nbformat": 4,
 "nbformat_minor": 2
}
