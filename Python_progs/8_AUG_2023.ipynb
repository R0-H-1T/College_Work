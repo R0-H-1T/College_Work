{
 "cells": [
  {
   "cell_type": "markdown",
   "metadata": {},
   "source": [
    "Print the status of given interface <br>\n",
    "Print all the interface and ip whose status is up <br>\n",
    "Give the count of ethernet intereface  <br>\n"
   ]
  },
  {
   "cell_type": "code",
   "execution_count": null,
   "metadata": {},
   "outputs": [],
   "source": [
    "network = {\n",
    "    'Interface': ['Ethernet0','Ethernet1','Serial0','Serial1'] ,\n",
    "    'IP': ['1.1.1.1','2.2.2.2','3.3.3.3','.4.4.4'],\n",
    "    'status': ['up', 'down', 'up', 'up']\n",
    "}\n",
    "\n",
    "user_interface = str(input('Enter an interface: '))\n",
    "\n",
    "if user_interface in network[0].g\n"
   ]
  },
  {
   "cell_type": "markdown",
   "metadata": {},
   "source": [
    "DNA sequences consist of four base types molecules, which can be represented by the letters A, C, G and T repectively.\n",
    "Write a function count base, which takes a stirng argument, representing a DNA sequence, and returns a dict that contains the count of each base, with the base letter being the key and the count as the value\n",
    "For example:\n",
    "    countbase = 'ACGTGGGAGTC'\n",
    "        return {'A':1, 'C':2, 'G':5,}"
   ]
  }
 ],
 "metadata": {
  "language_info": {
   "name": "python"
  },
  "orig_nbformat": 4
 },
 "nbformat": 4,
 "nbformat_minor": 2
}
