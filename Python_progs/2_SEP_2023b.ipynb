{
 "cells": [
  {
   "cell_type": "code",
   "execution_count": null,
   "metadata": {},
   "outputs": [],
   "source": [
    "\n",
    "import numpy as np\n",
    "import matplotlib.pyplot as mat\n",
    "import pandas as pd\n",
    "\n",
    "\n",
    "iris = pd.read_csv(r'./csv_s/Iris - Iris.csv')\n",
    "\n",
    "# print(iris.shape)\n",
    "# print(iris.describe)\n",
    "print(iris.groupby('Species').size())\n",
    "\n",
    "setosa = iris[iris['Species'] == 'Iris-setosa']\n",
    "vesicolor = iris[iris['Species'] == 'Iris-vesicolor']\n",
    "virginica = iris[iris['Species'] == 'Iris-vriginica']\n",
    "\n",
    "setosa['SepalWidthCm'].plot(kind = 'hist', label='setosa', color='g', fontsize=10)\n",
    "mat.title('Scatter-plot histogram')\n",
    "mat.xlabel('SepalWidthCm')\n",
    "mat.show()\n"
   ]
  }
 ],
 "metadata": {
  "language_info": {
   "name": "python"
  },
  "orig_nbformat": 4
 },
 "nbformat": 4,
 "nbformat_minor": 2
}
