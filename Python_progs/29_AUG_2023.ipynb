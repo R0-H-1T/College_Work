{
 "cells": [
  {
   "cell_type": "markdown",
   "metadata": {},
   "source": [
    "```reshape()``` - <br>\n",
    "```sum()``` - <br>\n",
    "```np.add.reduce()``` - <br>\n",
    "```np.arrange(12).reshape((3,4))``` - <br>\n"
   ]
  },
  {
   "cell_type": "code",
   "execution_count": 68,
   "metadata": {},
   "outputs": [
    {
     "name": "stdout",
     "output_type": "stream",
     "text": [
      "Array:  [1 2 3 4] [5 6 7 8]\n",
      "[1, 1, 1]\n",
      "[1 1 1]\n",
      "a.max:  8\n",
      "a.min:  1\n",
      "a.sum:  36\n",
      "a.max(axis = 0):  [5 6 7 8]\n",
      "a.min(axis = 0):  [1 2 3 4]\n",
      "a.max(axis = 1):  [4 8]\n",
      "a.min(axis = 1):  [1 5]\n",
      "+ [[24  3 37  9]\n",
      " [50  6 14  9]]\n",
      "- [[-22   1 -31  -1]\n",
      " [-40   6   0   7]]\n",
      "/ [[0.04347826 2.         0.08823529 0.8       ]\n",
      " [0.11111111        inf 1.         8.        ]]\n",
      "* [[ 23   2 102  20]\n",
      " [225   0  49   8]]\n"
     ]
    },
    {
     "name": "stderr",
     "output_type": "stream",
     "text": [
      "C:\\Users\\Rajesh\\AppData\\Local\\Temp\\ipykernel_25976\\2918566871.py:28: RuntimeWarning: divide by zero encountered in divide\n",
      "  print('/',a/b)\n"
     ]
    }
   ],
   "source": [
    "import numpy as np\n",
    "# import random as rand\n",
    "\n",
    "a = np.array([[1,2,3,4], [5,6,7,8]])\n",
    "b = np.array([[23,1,34,5], [45,0,7,1]])\n",
    "print('Array: ',a[0], a[1])\n",
    "\n",
    "\n",
    "rand = np.random.RandomState(51)\n",
    "x = rand.randint(4, size=10)\n",
    "\n",
    "print([x[4], x[7], x[2]])\n",
    "ind = [2,7,4]\n",
    "print(x[ind])\n",
    "\n",
    "print('a.max: ', a.max())\n",
    "print('a.min: ', a.min())\n",
    "print('a.sum: ', a.sum())\n",
    "print('a.max(axis = 0): ', a.max(axis=0))\n",
    "print('a.min(axis = 0): ', a.min(axis=0))\n",
    "print('a.max(axis = 1): ',a.max(axis=1))\n",
    "print('a.min(axis = 1): ',a.min(axis=1))\n",
    "\n",
    "\n",
    "print('+',a+b)\n",
    "print('-',a-b)\n",
    "try:\n",
    "    print('/',a/b)\n",
    "except Exception:\n",
    "    print('Cannot be divided by 0')\n",
    "print('*',a*b)"
   ]
  },
  {
   "cell_type": "markdown",
   "metadata": {},
   "source": [
    "## 30 Aug 2023\n",
    "\n",
    "\n"
   ]
  },
  {
   "cell_type": "markdown",
   "metadata": {},
   "source": [
    "### **Slicing of matrices**\n",
    "\n",
    "```arr[row, col]``` - first param will be row, second coll <br>\n",
    "```py\n",
    "    arr[:2, ]\n",
    "```\n",
    "---\n",
    "> blockquote\n",
    "\n",
    "| **Syntax** | **Description** |\n",
    "| -------- | --------- |\n",
    "| Header | Title |\n",
    "```\n",
    "{\n",
    "    \"firstname\": \"john\",\n",
    "    \"lastname\":\"smith\",\n",
    "    \"age\": \"34\"\n",
    "}\n",
    "```\n",
    "\n",
    "### Fancy indexing\n"
   ]
  },
  {
   "cell_type": "code",
   "execution_count": 37,
   "metadata": {},
   "outputs": [
    {
     "name": "stdout",
     "output_type": "stream",
     "text": [
      "[[34  1  3]\n",
      " [76  5 -4]]\n",
      "[ True False False False False]\n",
      "10\n",
      "[[ 0  1  2  3  4  5]\n",
      " [10 11 12 13 14 15]\n",
      " [20 21 32 42  4  5]\n",
      " [30 31 32 32 34 35]\n",
      " [40 41 42 43 44 45]\n",
      " [50 51 52 53 54 55]]\n",
      "\n",
      "\n",
      "Matrix:\n",
      " [[ 1  2  3  4  5]\n",
      " [11 12 13 14 15]\n",
      " [21 32 42  4  5]\n",
      " [31 32 32 34 35]\n",
      " [41 42 43 44 45]\n",
      " [51 52 53 54 55]]\n",
      "\n",
      "\n",
      "Matrix1: \n",
      " [[ 0  1  2  3  4  5]\n",
      " [10 11 12 13 14 15]\n",
      " [20 21 22 23 24 25]\n",
      " [30 31 32 33 34 35]\n",
      " [40 41 42 43 44 45]]\n",
      "\n",
      "Indexing using tuples:  [ 1 12 23 34 45]\n"
     ]
    },
    {
     "ename": "IndexError",
     "evalue": "index 5 is out of bounds for axis 0 with size 5",
     "output_type": "error",
     "traceback": [
      "\u001b[1;31m---------------------------------------------------------------------------\u001b[0m",
      "\u001b[1;31mIndexError\u001b[0m                                Traceback (most recent call last)",
      "Cell \u001b[1;32mIn[37], line 40\u001b[0m\n\u001b[0;32m     37\u001b[0m \u001b[39mprint\u001b[39m(\u001b[39m'\u001b[39m\u001b[39m\\n\u001b[39;00m\u001b[39m\\n\u001b[39;00m\u001b[39mMatrix1: \u001b[39m\u001b[39m\\n\u001b[39;00m\u001b[39m'\u001b[39m,matrix1)\n\u001b[0;32m     38\u001b[0m \u001b[39mprint\u001b[39m(\u001b[39m'\u001b[39m\u001b[39m\\n\u001b[39;00m\u001b[39mIndexing using tuples: \u001b[39m\u001b[39m'\u001b[39m, matrix1[(\u001b[39m0\u001b[39m,\u001b[39m1\u001b[39m,\u001b[39m2\u001b[39m,\u001b[39m3\u001b[39m,\u001b[39m4\u001b[39m),(\u001b[39m1\u001b[39m,\u001b[39m2\u001b[39m,\u001b[39m3\u001b[39m,\u001b[39m4\u001b[39m,\u001b[39m5\u001b[39m)])\n\u001b[1;32m---> 40\u001b[0m sorted_arr \u001b[39m=\u001b[39m matrix1[np\u001b[39m.\u001b[39;49margsort(matrix1)]\n",
      "\u001b[1;31mIndexError\u001b[0m: index 5 is out of bounds for axis 0 with size 5"
     ]
    }
   ],
   "source": [
    "import numpy as np\n",
    "\n",
    "arr = np.array([[23,34,1,3], [4,76,5,-4], [1,2,0,67]])\n",
    "\n",
    "\n",
    "print(arr[:2, 1:])\n",
    "\n",
    "\n",
    "my_arr = np.array(['bob', 'rob', 'hob', 'nob', 'aob'])\n",
    "print(my_arr == 'bob')\n",
    "mask = (my_arr == 'bob') | (my_arr == 'aob')\n",
    "\n",
    "print(np.array(10))\n",
    "\n",
    "matrix = np.array([[0,1,2,3,4,5], \n",
    "                   [10,11,12,13,14,15],\n",
    "                   [20,21,32,42,4,5],\n",
    "                   [30,31,32,32,34,35],\n",
    "                   [40,41,42,43,44,45],\n",
    "                   [50,51,52,53,54,55]])\n",
    "print(matrix)\n",
    "\n",
    "print('\\n\\nMatrix:\\n',matrix[:,[1,2,3,4,5]])\n",
    "\n",
    "\n",
    "\n",
    "\n",
    "matrix1 = np.array(\n",
    "    [\n",
    "        np.arange(0,6),\n",
    "        np.arange(10,16),\n",
    "        np.arange(20,26),\n",
    "        np.arange(30,36),\n",
    "        np.arange(40,46)\n",
    "    ]\n",
    ")\n",
    "print('\\n\\nMatrix1: \\n',matrix1)\n",
    "print('\\nIndexing using tuples: ', matrix1[(0,1,2,3,4),(1,2,3,4,5)])\n",
    "\n",
    "sorted_arr = matrix1[np.argsort(matrix1)]"
   ]
  },
  {
   "cell_type": "markdown",
   "metadata": {},
   "source": [
    "## Sort in Numpy\n",
    "```py\n",
    "print(np.sort(x, axis=0))\n",
    "```\n",
    "Axis 0 is column and axis 1 is row\n",
    "```py\n",
    "print(np.sort(x,[::-1]))\n",
    "```\n",
    "Sorts in descending order \n",
    "\n",
    "```Indexing -boolean```"
   ]
  },
  {
   "cell_type": "code",
   "execution_count": 43,
   "metadata": {},
   "outputs": [
    {
     "name": "stdout",
     "output_type": "stream",
     "text": [
      "[ 1  5 10 32 34]\n",
      "[2 4 0 3 1]\n",
      "Sorting using fancy indexing\n",
      "[ 1  5 10 32 34]\n",
      "[34 32 10  5  1]\n"
     ]
    }
   ],
   "source": [
    "x = np.array([10,34,1,32,5])\n",
    "print(np.sort(x, axis=0))\n",
    "\n",
    "print(np.argsort(x))\n",
    "print('Sorting using fancy indexing')\n",
    "print(x[np.argsort(x)])\n",
    "print(x[np.argsort(-x)])\n",
    "\n",
    "\n"
   ]
  },
  {
   "cell_type": "markdown",
   "metadata": {},
   "source": [
    "### ```Structured array```\n"
   ]
  },
  {
   "cell_type": "code",
   "execution_count": 12,
   "metadata": {},
   "outputs": [
    {
     "name": "stdout",
     "output_type": "stream",
     "text": [
      "[('Ram', 25,  True) ('Sita', 23, False) ('Ethan', 18, False)]\n"
     ]
    }
   ],
   "source": [
    "dtype = [('person_names', 'U9'), ('person_ages', 'i8'), ('python_programmer', 'bool')]\n",
    "data = np.array([('Ram', 25, True), ('Sita', 23, False), ('Arnav', 45, True), ('Ethan', 18, False)], dtype=dtype)\n",
    "\n",
    "print(data[np.where(data['person_ages'] < 30)])\n",
    "\n"
   ]
  },
  {
   "cell_type": "markdown",
   "metadata": {},
   "source": [
    "\n",
    "| **Character** | **Description** |\t**Example** |\n",
    "|---|---|---|\n",
    "'b '\t|Byte\t|np.dtype('b')\n",
    "'i'\t|Signed integer|\tnp.dtype('i4') == np.int32\n",
    "'u'\t|Unsigned integer|\tnp.dtype('u1') == np.uint8\n",
    "'f'\t|Floating point|\tnp.dtype('f8') == np.int64\n",
    "'c'\t|Complex floating point|\tnp.dtype('c16') == np.complex128\n",
    "'S','a'| \t  String|\tnp.dtype('S5')\n",
    "'U'\t|Unicode  string|\tnp.dtype('U') == np.str_\n",
    "'V'\t|Raw data (void)|\tnp.dtype('V') == np.void"
   ]
  },
  {
   "cell_type": "code",
   "execution_count": 6,
   "metadata": {},
   "outputs": [
    {
     "data": {
      "text/plain": [
       "dtype([('name', '<U10'), ('age', '<i4'), ('weight', '<f8')])"
      ]
     },
     "execution_count": 6,
     "metadata": {},
     "output_type": "execute_result"
    }
   ],
   "source": [
    "import numpy as np\n",
    "\n",
    "np.dtype({\n",
    "    'names': ('name', 'age', 'weight'),\n",
    "    'formats': ('U10', 'i4', 'f8')\n",
    "    })\n",
    "\n",
    "\n"
   ]
  },
  {
   "cell_type": "markdown",
   "metadata": {},
   "source": [
    "1. How are list and numpy different? <br>\n",
    " - Numpy is faster than list. It is of fixed type. Takes less space, and is faster to read from memory. It  doesn't to type checking(str, int, float) everytime.\n",
    " - In memory: Lists are not store in contigous memory locations.\n",
    "\n",
    "```dtype='int32'``` - can specify the datatype and size required for the array. Used with arrange <br>\n",
    "\n",
    "\n",
    "\n",
    "```py \n",
    "a.size # size of each element in the \n",
    "a.nbytes # \n",
    "a.ndim # dimension of the array \n",
    "n.itemsize\n",
    "a.shape # will return the shape of your \n",
    "```\n",
    "\n"
   ]
  },
  {
   "cell_type": "code",
   "execution_count": 32,
   "metadata": {},
   "outputs": [
    {
     "name": "stdout",
     "output_type": "stream",
     "text": [
      "int16 14\n",
      "[ 2  3  4 23 63 95]\n",
      "[ 2  4 63]\n"
     ]
    },
    {
     "ename": "TypeError",
     "evalue": "Cannot interpret '3' as a data type",
     "output_type": "error",
     "traceback": [
      "\u001b[1;31m---------------------------------------------------------------------------\u001b[0m",
      "\u001b[1;31mTypeError\u001b[0m                                 Traceback (most recent call last)",
      "Cell \u001b[1;32mIn[32], line 12\u001b[0m\n\u001b[0;32m     10\u001b[0m \u001b[39m#creating 3d array;\u001b[39;00m\n\u001b[0;32m     11\u001b[0m d3_array \u001b[39m=\u001b[39m np\u001b[39m.\u001b[39marray([[[\u001b[39m12\u001b[39m,\u001b[39m34\u001b[39m,\u001b[39m542\u001b[39m,\u001b[39m89\u001b[39m],[\u001b[39m21\u001b[39m,\u001b[39m74\u001b[39m,\u001b[39m24\u001b[39m,\u001b[39m13\u001b[39m], [\u001b[39m986\u001b[39m,\u001b[39m24\u001b[39m,\u001b[39m15\u001b[39m,\u001b[39m75\u001b[39m]]])\n\u001b[1;32m---> 12\u001b[0m \u001b[39mprint\u001b[39m(np\u001b[39m.\u001b[39;49mzeros(\u001b[39m3\u001b[39;49m,\u001b[39m3\u001b[39;49m))\n",
      "\u001b[1;31mTypeError\u001b[0m: Cannot interpret '3' as a data type"
     ]
    }
   ],
   "source": [
    "import numpy as np\n",
    "\n",
    "\n",
    "a = np.array([[1,2,3,4,23,63,95], [41,62,3,94,43,117,6]], dtype='int16')\n",
    "print(a.dtype, a.size)\n",
    "\n",
    "print(a[0, 1:])\n",
    "print(a[0, 1:6:2]) # startindex, stopindex and stepindex\n",
    "\n",
    "#creating 3d array;\n",
    "d3_array = np.array([[[12,34,542,89],[21,74,24,13], [986,24,15,75]]])\n",
    "print(np.zeros((3,3)))"
   ]
  },
  {
   "cell_type": "markdown",
   "metadata": {},
   "source": [
    "### Initializing different types of array\n",
    "\n",
    "```np.zeroes((shape here))``` - zeroes \n",
    "```np.ones((shape here))```"
   ]
  },
  {
   "cell_type": "code",
   "execution_count": 16,
   "metadata": {},
   "outputs": [
    {
     "name": "stdout",
     "output_type": "stream",
     "text": [
      "[[[[0. 0.]\n",
      "   [0. 0.]]\n",
      "\n",
      "  [[0. 0.]\n",
      "   [0. 0.]]]\n",
      "\n",
      "\n",
      " [[[0. 0.]\n",
      "   [0. 0.]]\n",
      "\n",
      "  [[0. 0.]\n",
      "   [0. 0.]]]]\n",
      "[[45. 45.]\n",
      " [45. 45.]]\n",
      "[[ 3 10  6]\n",
      " [ 6  0  0]\n",
      " [ 4  1  8]]\n"
     ]
    }
   ],
   "source": [
    "print(np.zeros((2,2,2,2)))\n",
    "print(np.full((2,2), 45, dtype='float16'))\n",
    "#for decimal values\n",
    "\n",
    "\n",
    "\n",
    "#for integer values\n",
    "print(np.random.randint(11, size=(3,3)))\n"
   ]
  },
  {
   "cell_type": "code",
   "execution_count": 24,
   "metadata": {},
   "outputs": [
    {
     "name": "stdout",
     "output_type": "stream",
     "text": [
      "[[1. 1. 1. 1. 1.]\n",
      " [1. 1. 1. 1. 1.]\n",
      " [1. 1. 1. 1. 1.]\n",
      " [1. 1. 1. 1. 1.]\n",
      " [1. 1. 1. 1. 1.]]\n",
      "[[0. 0. 0.]\n",
      " [0. 9. 0.]\n",
      " [0. 0. 0.]]\n",
      "[[1. 1. 1. 1. 1.]\n",
      " [1. 0. 0. 0. 1.]\n",
      " [1. 0. 9. 0. 1.]\n",
      " [1. 0. 0. 0. 1.]\n",
      " [1. 1. 1. 1. 1.]]\n"
     ]
    }
   ],
   "source": [
    "z = np.ones((5,5))\n",
    "print(z)\n",
    "\n",
    "zero = np.zeros((3,3))\n",
    "zero[1,1] = 9\n",
    "print(zero)\n",
    "z[1:4,1:4] = zero\n",
    "print(z)\n"
   ]
  },
  {
   "cell_type": "markdown",
   "metadata": {},
   "source": [
    "#### In numpy arrays are copied by reference and not value.\n",
    "TO prevent that from happening use ```copy()``` function."
   ]
  },
  {
   "cell_type": "code",
   "execution_count": 31,
   "metadata": {},
   "outputs": [
    {
     "name": "stdout",
     "output_type": "stream",
     "text": [
      "2168015766032 2168015766512\n",
      "[10 13 16 19 22 25 28]\n",
      "[[27 26 11]\n",
      " [17 14 10]\n",
      " [14 28 29]]\n"
     ]
    }
   ],
   "source": [
    "my_arr = np.array([1,34,15,93,56])\n",
    "my_array1 = my_arr.copy()\n",
    "print(id(my_array1), id(my_arr))\n",
    "\n",
    "\n",
    "print(np.array(np.arange(10,30, 3)))\n",
    "print(np.random.randint(10,30, size=(3,3)))\n"
   ]
  }
 ],
 "metadata": {
  "kernelspec": {
   "display_name": "Python 3",
   "language": "python",
   "name": "python3"
  },
  "language_info": {
   "codemirror_mode": {
    "name": "ipython",
    "version": 3
   },
   "file_extension": ".py",
   "mimetype": "text/x-python",
   "name": "python",
   "nbconvert_exporter": "python",
   "pygments_lexer": "ipython3",
   "version": "3.11.3"
  },
  "orig_nbformat": 4
 },
 "nbformat": 4,
 "nbformat_minor": 2
}
