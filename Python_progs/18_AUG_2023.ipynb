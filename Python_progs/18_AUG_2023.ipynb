{
 "cells": [
  {
   "cell_type": "markdown",
   "metadata": {},
   "source": [
    "Q1. Given the list of CGPA=[9,7,6,5,10,3,9,6,6,4]. Write <br>\n",
    "a) an expression that evaluates to the number of 6 CGPA <br>\n",
    "b) a statement that changes the last CGPA to 3 <br>\n",
    "c) An expression that evaluates to the max of CGPA <br>\n",
    "d) Statement that sorts the CGPA list <br>\n",
    "e) Statement that evaluates the average of CGPA <br>"
   ]
  },
  {
   "cell_type": "code",
   "execution_count": 11,
   "metadata": {},
   "outputs": [
    {
     "name": "stdout",
     "output_type": "stream",
     "text": [
      "1.  3\n",
      "2.  [9, 7, 6, 5, 10, 3, 9, 6, 6, 3]\n",
      "3.  10\n",
      "4.  [3, 3, 5, 6, 6, 6, 7, 9, 9, 10]\n",
      "5.  6.4\n"
     ]
    }
   ],
   "source": [
    "cgpa = [9,7,6,5,10,3,9,6,6,4]\n",
    "\n",
    "print(\"1. Totol of 6 cgpa: \",cgpa.count(6))\n",
    "cgpa[-1] = 3\n",
    "print(\"2. \",cgpa)\n",
    "cgpa[-1] = 4\n",
    "print(\"3. \",max(cgpa))\n",
    "a = lambda x: sorted(x)\n",
    "print(\"4. \",a(cgpa))\n",
    "print(\"5. \",sum(cgpa)/len(cgpa))"
   ]
  },
  {
   "cell_type": "markdown",
   "metadata": {},
   "source": [
    "Q2. Start by assigning  to variable answers a list containing an arbitary sequence of string 'y' and 'n'\n",
    "answers = ['y','n','y','n','y','y','n','y','n']\n",
    "Write py statements correspoinding to the following.\n",
    "1) assign to variable numYes the number of occurances of 'y' in the list occurances. <br>\n",
    "2) Assign variable numNo the num of occurance of 'n' in list occurances. <br>\n",
    "3) Assign to variable precentYes    "
   ]
  },
  {
   "cell_type": "code",
   "execution_count": null,
   "metadata": {},
   "outputs": [],
   "source": []
  },
  {
   "cell_type": "markdown",
   "metadata": {},
   "source": [
    "### What all to do ? <br>\n",
    "`1. Know inheritance - types, why used` <br>\n",
    "`2. `**Domain based**` classes, what all u can do with your domain` <br>\n",
    "`3. ` **list**, **tuple**, **dictionary**, **set** ` properties` <br>\n",
    "`4. Method overriding and overloading` <br>\n",
    "`5.`**Ploymorphism** <br>\n",
    "`6.`**Modules**, **Range()**` Take a look at important functions (most used)` <br>\n",
    "<br>\n",
    "*isinstance()*\n",
    "*help()*\n"
   ]
  },
  {
   "cell_type": "code",
   "execution_count": 32,
   "metadata": {},
   "outputs": [
    {
     "name": "stdout",
     "output_type": "stream",
     "text": [
      "rohit, 2000.0, Sr Software Developer\n",
      "rohit, 2800.0, Sr Software Developer\n",
      "Rohan, 45000.0, CEO\n",
      "Rohan, 63000.0, CEO\n",
      "rohit, 2800.0, Sr Software Developer\n"
     ]
    }
   ],
   "source": [
    "class Employee:\n",
    "    raise_amt = 0.4\n",
    "    def __init__(self, name:str, salary:float, desi:str) -> None:\n",
    "        self.name = name\n",
    "        self.salary = salary\n",
    "        self.desi = desi\n",
    "\n",
    "    def print(self) -> None:\n",
    "        print(f'{self.name}, {self.salary}, {self.desi}')\n",
    "    \n",
    "    def emp_raise(self):\n",
    "        self.salary += self.salary * self.raise_amt\n",
    "\n",
    "    def __str__(self):\n",
    "        return '{}, {}, {}'.format(self.name, self.salary, self.desi)\n",
    "\n",
    "class Manager(Employee):\n",
    "    def __init__(self, name:str, salary:float, desi:str, emps:int) -> None:\n",
    "        super().__init__(name, salary, desi)\n",
    "        \n",
    "\n",
    "rohit = Employee('rohit', 2000.00, 'Sr Software Developer')\n",
    "rohit.print()\n",
    "rohit.emp_raise()\n",
    "rohit.print()\n",
    "\n",
    "\n",
    "rohan = Manager('Rohan', 45000.00, 'CEO', 23)\n",
    "rohan.print()\n",
    "rohan.emp_raise()\n",
    "rohan.print()\n",
    "print(rohit)"
   ]
  },
  {
   "cell_type": "code",
   "execution_count": 24,
   "metadata": {},
   "outputs": [
    {
     "name": "stdout",
     "output_type": "stream",
     "text": [
      "['cherry', 'apple', 'apple', 'cherry', 'cherry']\n",
      "['y', 'y', 'y', 'y', 'y']\n",
      "[0, 2, 4, 6, 8, 10, 12, 14, 16, 18]\n",
      "[0, 1, 2, 3, 4, 5, 6, 7, 8, 9]\n"
     ]
    }
   ],
   "source": [
    "import random \n",
    "\n",
    "mylist = [\"apple\", \"banana\", \"cherry\"]\n",
    "\n",
    "print(random.choices(mylist, k = 5))\n",
    "\n",
    "my_list = ['y','n','y','n','n','n','y','y','y','y']\n",
    "print(random.choices(my_list, k = 5))\n",
    "\n",
    "\n",
    "print([x for x in range(20) if x% 2 == 0])\n",
    "print([x if x%2==0 else x for x in range(10)])"
   ]
  },
  {
   "cell_type": "code",
   "execution_count": 27,
   "metadata": {},
   "outputs": [
    {
     "name": "stdout",
     "output_type": "stream",
     "text": [
      "[12]\n",
      "gnirts\n",
      "\n",
      "strgin\n",
      "[<filter object at 0x000001661B99B820>]\n"
     ]
    }
   ],
   "source": [
    "# LIST COMPREHENSION PRACTICE\n",
    "\n",
    "def convert_to_int(x): return int(x)\n",
    "hello = list(map(lambda x: int(x), input('Enter 2 numbers: ').split()))\n",
    "print(hello)\n",
    "\n",
    "\n",
    "revers = 'string'\n",
    "print(revers[::-1])\n",
    "\n",
    "print()\n",
    "\n",
    "res = revers.replace('ing', 'gin', 1)\n",
    "print(res)\n",
    "\n",
    "print([filter(lambda c : c+2, revers)])"
   ]
  },
  {
   "cell_type": "code",
   "execution_count": 36,
   "metadata": {},
   "outputs": [
    {
     "name": "stdout",
     "output_type": "stream",
     "text": [
      "1990\n",
      "dict_values([1990, 1899, 1989, 1901])\n",
      "dict_items([('Chevrolet', 1990), ('Volkswagen', 1899), ('Suzuki', 1989), ('Skoda', 1901)])\n"
     ]
    }
   ],
   "source": [
    "dict = {'Chevrolet': 1990, 'Volkswagen':1899, 'Suzuki': 1989, 'Skoda': 1901}\n",
    "print(dict.get('Chevrolet'))\n",
    "print(dict.values())\n",
    "print(dict.items())"
   ]
  }
 ],
 "metadata": {
  "kernelspec": {
   "display_name": "Python 3",
   "language": "python",
   "name": "python3"
  },
  "language_info": {
   "codemirror_mode": {
    "name": "ipython",
    "version": 3
   },
   "file_extension": ".py",
   "mimetype": "text/x-python",
   "name": "python",
   "nbconvert_exporter": "python",
   "pygments_lexer": "ipython3",
   "version": "3.11.3"
  },
  "orig_nbformat": 4
 },
 "nbformat": 4,
 "nbformat_minor": 2
}
