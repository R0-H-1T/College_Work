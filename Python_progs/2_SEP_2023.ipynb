{
 "cells": [
  {
   "cell_type": "markdown",
   "metadata": {},
   "source": [
    "# Pandas\n",
    "\n",
    "\n",
    "## Series and dataframe accesing \n",
    "\n",
    "5 ques each 10 marks <br>\n",
    "both program or find error or output or only descriptive  <br>\n",
    "First 3 is compulsory <br>\n",
    "Expect subquestion Ex 1 (a)(b) a maybe for 4 and b for 6\n",
    " <br>\n",
    "first descriptive\n",
    "Example, def, concept where it use when  syntax, 2 3 lines desciption of example\n",
    "Ex Hierarchical indexing \n",
    "\n",
    "\n",
    "\n",
    "how much time to spend on each ques?\n",
    "120/5 = ? 20 mins for each ques."
   ]
  },
  {
   "cell_type": "code",
   "execution_count": 14,
   "metadata": {},
   "outputs": [
    {
     "name": "stdout",
     "output_type": "stream",
     "text": [
      "[array([ 0.25,  0.5 , -0.75,  1.  ])]\n",
      "[Index(['a', 'b', 'c', 'd'], dtype='object')]\n",
      "[0.5]\n",
      "[b    0.50\n",
      "c   -0.75\n",
      "dtype: float64]\n",
      "-0.75\n",
      "[1 3 5 7 9]\n"
     ]
    }
   ],
   "source": [
    "import numpy as np\n",
    "import pandas as pd\n",
    "\n",
    "data = pd.Series([0.25, 0.5, -.75, 1.0], index=['a', 'b', 'c', 'd'])\n",
    "print([data.values])\n",
    "print([data.index])\n",
    "print([data['b']])\n",
    "print([data[1:3]])\n",
    "data1 = pd.Series([0.25, 0.5, -.75, 1.0], index=[2,3,5,1])\n",
    "print(data1[5])\n",
    "\n",
    "\n",
    "data2 = pd.Series(np.array(np.arange(1,10, 2)))\n",
    "print(data2.values)"
   ]
  },
  {
   "cell_type": "markdown",
   "metadata": {},
   "source": [
    "### Creating a DataFrame using dict or list\n",
    "\n",
    "All the narray should be og the same length. <br>\n"
   ]
  },
  {
   "cell_type": "code",
   "execution_count": 25,
   "metadata": {},
   "outputs": [
    {
     "name": "stdout",
     "output_type": "stream",
     "text": [
      "              0        1\n",
      "Mumbai   321321   321321\n",
      "Pune    6465434  9874532\n",
      "Punjab   675646    12321\n",
      "     City State\n",
      "0    Pune    MH\n",
      "1  Mumbai    MH\n",
      "2   Delhi    DL\n",
      "             0       1\n",
      "mango   yellow      50\n",
      "apple       25  orange\n",
      "orange     red      90\n",
      "         Color  Count\n",
      "Mango   Yellow     50\n",
      "Apple      Red     25\n",
      "Orange  Orange     90\n",
      "            California  New York  Florida\n",
      "Population    52152352   6789678   421215\n",
      "Area              5231      4321     6432\n"
     ]
    }
   ],
   "source": [
    "list1 = [321321,321321]\n",
    "list2 = [6465434,9874532]\n",
    "list3 = [675646,12321]\n",
    "print(pd.DataFrame([list1, list2, list3], index=['Mumbai', 'Pune', 'Punjab']))\n",
    "\n",
    "df = pd.DataFrame({\n",
    "    'City': ['Pune', 'Mumbai', 'Delhi'],\n",
    "    'State': ['MH', 'MH', 'DL']\n",
    "})\n",
    "print(df)\n",
    "\n",
    "print(pd.DataFrame([['yellow', 50], [25, 'orange'], ['red',90]], index=['mango', 'apple', 'orange']))\n",
    "\n",
    "\n",
    "my_df1 = pd.DataFrame({\n",
    "  'Color': ['Yellow', 'Red', 'Orange'],\n",
    "  'Count': [50, 25, 90]\n",
    "}, index=['Mango', 'Apple', 'Orange'])\n",
    "\n",
    "print(my_df1)\n",
    "\n",
    "population_dict = {\n",
    "    'California': 52152352,\n",
    "    'New York': 6789678,\n",
    "    'Florida': 421215\n",
    "}\n",
    "\n",
    "area_dict = {\n",
    "    'California': 5231,\n",
    "    'New York': 4321,\n",
    "    'Florida': 6432\n",
    "}\n",
    "\n",
    "states = pd.DataFrame([population_dict,area_dict], index=['Population', 'Area'])\n",
    "print(states)\n",
    "\n"
   ]
  },
  {
   "cell_type": "code",
   "execution_count": 49,
   "metadata": {},
   "outputs": [
    {
     "ename": "TypeError",
     "evalue": "Expected file path name or file-like object, got <class 'bytes'> type",
     "output_type": "error",
     "traceback": [
      "\u001b[1;31m---------------------------------------------------------------------------\u001b[0m",
      "\u001b[1;31mTypeError\u001b[0m                                 Traceback (most recent call last)",
      "Cell \u001b[1;32mIn[49], line 6\u001b[0m\n\u001b[0;32m      3\u001b[0m request_url \u001b[39m=\u001b[39m urllib\u001b[39m.\u001b[39mrequest\u001b[39m.\u001b[39murlopen(\u001b[39m'\u001b[39m\u001b[39mhttps://gist.githubusercontent.com/kevin336/acbb2271e66c10a5b73aacf82ca82784/raw/e38afe62e088394d61ed30884dd50a6826eee0a8/employees.csv\u001b[39m\u001b[39m'\u001b[39m)\n\u001b[0;32m      4\u001b[0m employee_csv \u001b[39m=\u001b[39m request_url\u001b[39m.\u001b[39mread()\n\u001b[1;32m----> 6\u001b[0m df \u001b[39m=\u001b[39m pd\u001b[39m.\u001b[39;49mread_csv(employee_csv)\n\u001b[0;32m      7\u001b[0m \u001b[39mprint\u001b[39m(df)\n",
      "File \u001b[1;32mc:\\Users\\Rajesh\\AppData\\Local\\Programs\\Python\\Python311\\Lib\\site-packages\\pandas\\io\\parsers\\readers.py:912\u001b[0m, in \u001b[0;36mread_csv\u001b[1;34m(filepath_or_buffer, sep, delimiter, header, names, index_col, usecols, dtype, engine, converters, true_values, false_values, skipinitialspace, skiprows, skipfooter, nrows, na_values, keep_default_na, na_filter, verbose, skip_blank_lines, parse_dates, infer_datetime_format, keep_date_col, date_parser, date_format, dayfirst, cache_dates, iterator, chunksize, compression, thousands, decimal, lineterminator, quotechar, quoting, doublequote, escapechar, comment, encoding, encoding_errors, dialect, on_bad_lines, delim_whitespace, low_memory, memory_map, float_precision, storage_options, dtype_backend)\u001b[0m\n\u001b[0;32m    899\u001b[0m kwds_defaults \u001b[39m=\u001b[39m _refine_defaults_read(\n\u001b[0;32m    900\u001b[0m     dialect,\n\u001b[0;32m    901\u001b[0m     delimiter,\n\u001b[1;32m   (...)\u001b[0m\n\u001b[0;32m    908\u001b[0m     dtype_backend\u001b[39m=\u001b[39mdtype_backend,\n\u001b[0;32m    909\u001b[0m )\n\u001b[0;32m    910\u001b[0m kwds\u001b[39m.\u001b[39mupdate(kwds_defaults)\n\u001b[1;32m--> 912\u001b[0m \u001b[39mreturn\u001b[39;00m _read(filepath_or_buffer, kwds)\n",
      "File \u001b[1;32mc:\\Users\\Rajesh\\AppData\\Local\\Programs\\Python\\Python311\\Lib\\site-packages\\pandas\\io\\parsers\\readers.py:577\u001b[0m, in \u001b[0;36m_read\u001b[1;34m(filepath_or_buffer, kwds)\u001b[0m\n\u001b[0;32m    574\u001b[0m _validate_names(kwds\u001b[39m.\u001b[39mget(\u001b[39m\"\u001b[39m\u001b[39mnames\u001b[39m\u001b[39m\"\u001b[39m, \u001b[39mNone\u001b[39;00m))\n\u001b[0;32m    576\u001b[0m \u001b[39m# Create the parser.\u001b[39;00m\n\u001b[1;32m--> 577\u001b[0m parser \u001b[39m=\u001b[39m TextFileReader(filepath_or_buffer, \u001b[39m*\u001b[39;49m\u001b[39m*\u001b[39;49mkwds)\n\u001b[0;32m    579\u001b[0m \u001b[39mif\u001b[39;00m chunksize \u001b[39mor\u001b[39;00m iterator:\n\u001b[0;32m    580\u001b[0m     \u001b[39mreturn\u001b[39;00m parser\n",
      "File \u001b[1;32mc:\\Users\\Rajesh\\AppData\\Local\\Programs\\Python\\Python311\\Lib\\site-packages\\pandas\\io\\parsers\\readers.py:1407\u001b[0m, in \u001b[0;36mTextFileReader.__init__\u001b[1;34m(self, f, engine, **kwds)\u001b[0m\n\u001b[0;32m   1404\u001b[0m     \u001b[39mself\u001b[39m\u001b[39m.\u001b[39moptions[\u001b[39m\"\u001b[39m\u001b[39mhas_index_names\u001b[39m\u001b[39m\"\u001b[39m] \u001b[39m=\u001b[39m kwds[\u001b[39m\"\u001b[39m\u001b[39mhas_index_names\u001b[39m\u001b[39m\"\u001b[39m]\n\u001b[0;32m   1406\u001b[0m \u001b[39mself\u001b[39m\u001b[39m.\u001b[39mhandles: IOHandles \u001b[39m|\u001b[39m \u001b[39mNone\u001b[39;00m \u001b[39m=\u001b[39m \u001b[39mNone\u001b[39;00m\n\u001b[1;32m-> 1407\u001b[0m \u001b[39mself\u001b[39m\u001b[39m.\u001b[39m_engine \u001b[39m=\u001b[39m \u001b[39mself\u001b[39;49m\u001b[39m.\u001b[39;49m_make_engine(f, \u001b[39mself\u001b[39;49m\u001b[39m.\u001b[39;49mengine)\n",
      "File \u001b[1;32mc:\\Users\\Rajesh\\AppData\\Local\\Programs\\Python\\Python311\\Lib\\site-packages\\pandas\\io\\parsers\\readers.py:1661\u001b[0m, in \u001b[0;36mTextFileReader._make_engine\u001b[1;34m(self, f, engine)\u001b[0m\n\u001b[0;32m   1659\u001b[0m     \u001b[39mif\u001b[39;00m \u001b[39m\"\u001b[39m\u001b[39mb\u001b[39m\u001b[39m\"\u001b[39m \u001b[39mnot\u001b[39;00m \u001b[39min\u001b[39;00m mode:\n\u001b[0;32m   1660\u001b[0m         mode \u001b[39m+\u001b[39m\u001b[39m=\u001b[39m \u001b[39m\"\u001b[39m\u001b[39mb\u001b[39m\u001b[39m\"\u001b[39m\n\u001b[1;32m-> 1661\u001b[0m \u001b[39mself\u001b[39m\u001b[39m.\u001b[39mhandles \u001b[39m=\u001b[39m get_handle(\n\u001b[0;32m   1662\u001b[0m     f,\n\u001b[0;32m   1663\u001b[0m     mode,\n\u001b[0;32m   1664\u001b[0m     encoding\u001b[39m=\u001b[39;49m\u001b[39mself\u001b[39;49m\u001b[39m.\u001b[39;49moptions\u001b[39m.\u001b[39;49mget(\u001b[39m\"\u001b[39;49m\u001b[39mencoding\u001b[39;49m\u001b[39m\"\u001b[39;49m, \u001b[39mNone\u001b[39;49;00m),\n\u001b[0;32m   1665\u001b[0m     compression\u001b[39m=\u001b[39;49m\u001b[39mself\u001b[39;49m\u001b[39m.\u001b[39;49moptions\u001b[39m.\u001b[39;49mget(\u001b[39m\"\u001b[39;49m\u001b[39mcompression\u001b[39;49m\u001b[39m\"\u001b[39;49m, \u001b[39mNone\u001b[39;49;00m),\n\u001b[0;32m   1666\u001b[0m     memory_map\u001b[39m=\u001b[39;49m\u001b[39mself\u001b[39;49m\u001b[39m.\u001b[39;49moptions\u001b[39m.\u001b[39;49mget(\u001b[39m\"\u001b[39;49m\u001b[39mmemory_map\u001b[39;49m\u001b[39m\"\u001b[39;49m, \u001b[39mFalse\u001b[39;49;00m),\n\u001b[0;32m   1667\u001b[0m     is_text\u001b[39m=\u001b[39;49mis_text,\n\u001b[0;32m   1668\u001b[0m     errors\u001b[39m=\u001b[39;49m\u001b[39mself\u001b[39;49m\u001b[39m.\u001b[39;49moptions\u001b[39m.\u001b[39;49mget(\u001b[39m\"\u001b[39;49m\u001b[39mencoding_errors\u001b[39;49m\u001b[39m\"\u001b[39;49m, \u001b[39m\"\u001b[39;49m\u001b[39mstrict\u001b[39;49m\u001b[39m\"\u001b[39;49m),\n\u001b[0;32m   1669\u001b[0m     storage_options\u001b[39m=\u001b[39;49m\u001b[39mself\u001b[39;49m\u001b[39m.\u001b[39;49moptions\u001b[39m.\u001b[39;49mget(\u001b[39m\"\u001b[39;49m\u001b[39mstorage_options\u001b[39;49m\u001b[39m\"\u001b[39;49m, \u001b[39mNone\u001b[39;49;00m),\n\u001b[0;32m   1670\u001b[0m )\n\u001b[0;32m   1671\u001b[0m \u001b[39massert\u001b[39;00m \u001b[39mself\u001b[39m\u001b[39m.\u001b[39mhandles \u001b[39mis\u001b[39;00m \u001b[39mnot\u001b[39;00m \u001b[39mNone\u001b[39;00m\n\u001b[0;32m   1672\u001b[0m f \u001b[39m=\u001b[39m \u001b[39mself\u001b[39m\u001b[39m.\u001b[39mhandles\u001b[39m.\u001b[39mhandle\n",
      "File \u001b[1;32mc:\\Users\\Rajesh\\AppData\\Local\\Programs\\Python\\Python311\\Lib\\site-packages\\pandas\\io\\common.py:903\u001b[0m, in \u001b[0;36mget_handle\u001b[1;34m(path_or_buf, mode, encoding, compression, memory_map, is_text, errors, storage_options)\u001b[0m\n\u001b[0;32m    898\u001b[0m     is_wrapped \u001b[39m=\u001b[39m \u001b[39mnot\u001b[39;00m (\n\u001b[0;32m    899\u001b[0m         \u001b[39misinstance\u001b[39m(ioargs\u001b[39m.\u001b[39mfilepath_or_buffer, \u001b[39mstr\u001b[39m) \u001b[39mor\u001b[39;00m ioargs\u001b[39m.\u001b[39mshould_close\n\u001b[0;32m    900\u001b[0m     )\n\u001b[0;32m    902\u001b[0m \u001b[39mif\u001b[39;00m \u001b[39m\"\u001b[39m\u001b[39mr\u001b[39m\u001b[39m\"\u001b[39m \u001b[39min\u001b[39;00m ioargs\u001b[39m.\u001b[39mmode \u001b[39mand\u001b[39;00m \u001b[39mnot\u001b[39;00m \u001b[39mhasattr\u001b[39m(handle, \u001b[39m\"\u001b[39m\u001b[39mread\u001b[39m\u001b[39m\"\u001b[39m):\n\u001b[1;32m--> 903\u001b[0m     \u001b[39mraise\u001b[39;00m \u001b[39mTypeError\u001b[39;00m(\n\u001b[0;32m    904\u001b[0m         \u001b[39m\"\u001b[39m\u001b[39mExpected file path name or file-like object, \u001b[39m\u001b[39m\"\u001b[39m\n\u001b[0;32m    905\u001b[0m         \u001b[39mf\u001b[39m\u001b[39m\"\u001b[39m\u001b[39mgot \u001b[39m\u001b[39m{\u001b[39;00m\u001b[39mtype\u001b[39m(ioargs\u001b[39m.\u001b[39mfilepath_or_buffer)\u001b[39m}\u001b[39;00m\u001b[39m type\u001b[39m\u001b[39m\"\u001b[39m\n\u001b[0;32m    906\u001b[0m     )\n\u001b[0;32m    908\u001b[0m handles\u001b[39m.\u001b[39mreverse()  \u001b[39m# close the most recently added buffer first\u001b[39;00m\n\u001b[0;32m    909\u001b[0m \u001b[39mif\u001b[39;00m ioargs\u001b[39m.\u001b[39mshould_close:\n",
      "\u001b[1;31mTypeError\u001b[0m: Expected file path name or file-like object, got <class 'bytes'> type"
     ]
    }
   ],
   "source": [
    "import urllib\n",
    "\n",
    "request_url = urllib.request.urlopen('https://gist.githubusercontent.com/kevin336/acbb2271e66c10a5b73aacf82ca82784/raw/e38afe62e088394d61ed30884dd50a6826eee0a8/employees.csv')\n",
    "employee_csv = request_url.read()\n",
    "\n",
    "df = pd.read_csv(employee_csv)\n",
    "print(df)\n",
    "\n"
   ]
  },
  {
   "cell_type": "markdown",
   "metadata": {},
   "source": [
    "```my_df1.loc()``` - select the row using row_id <br>\n",
    "```my_df1['name']``` - prints by column name <br>\n",
    "```my_df1['name']``` - does the above"
   ]
  },
  {
   "cell_type": "code",
   "execution_count": 46,
   "metadata": {},
   "outputs": [
    {
     "name": "stdout",
     "output_type": "stream",
     "text": [
      "       name        city  age  py-score\n",
      "101  Xavier     Mexican   41      88.8\n",
      "102     Ann     Toronto   28      80.1\n",
      "103    Jana      Prague   33      67.4\n",
      "104      Yi    Shanghai   34      45.2\n",
      "105   Robin  Manchester   38      79.2\n",
      "106    Amal       Cairo   31      84.3\n",
      "107    Nori       Osaka   37      90.8 \n",
      "\n",
      "\n",
      "name            Ann\n",
      "city        Toronto\n",
      "age              28\n",
      "py-score       80.1\n",
      "Name: 102, dtype: object\n",
      "101    Xavier\n",
      "102       Ann\n",
      "103      Jana\n",
      "104        Yi\n",
      "105     Robin\n",
      "106      Amal\n",
      "107      Nori\n",
      "Name: name, dtype: object\n",
      "101       Mexican\n",
      "102       Toronto\n",
      "103        Prague\n",
      "104      Shanghai\n",
      "105    Manchester\n",
      "106         Cairo\n",
      "107         Osaka\n",
      "Name: city, dtype: object\n"
     ]
    }
   ],
   "source": [
    "my_df1 = pd.DataFrame({\n",
    "  'name': ['Xavier', 'Ann', 'Jana','Yi', 'Robin', 'Amal', \"Nori\"],\n",
    "  'city': ['Mexican', 'Toronto', 'Prague', 'Shanghai', 'Manchester', 'Cairo', 'Osaka'],\n",
    "  'age': [41, 28, 33, 34, 38, 31, 37],\n",
    "  'py-score': [88.8, 80.1, 67.4,45.2, 79.2,84.3, 90.8 ]\n",
    "}, index=[x for x in range(101,108)], columns=['name', 'city', 'age', 'py-score'])\n",
    "\n",
    "print(my_df1, '\\n\\n')\n",
    "\n",
    "print(my_df1.loc[102])\n",
    "print(my_df1['name'])\n",
    "print(my_df1.city)\n"
   ]
  },
  {
   "cell_type": "markdown",
   "metadata": {},
   "source": [
    "## Handling missing data in pandas\n",
    "- previous value\n",
    "- add 0\n",
    "- remove entire record\n",
    "\n",
    "\n",
    "```nan``` - Not a number <br>\n",
    "```isnull()``` - if series contains a null value. <br>\n",
    "```notnull()``` - is there is null or not <br>\n",
    "```dropna()``` - remove the record<br>\n",
    "```fillna(10)``` - will replace na with 10<br>\n",
    "```fillna(method = 'ffill')``` - will replace with the succeding value<br>\n",
    "```fillna(method = 'bfill')``` - will replace with the preceding value<br>"
   ]
  },
  {
   "cell_type": "code",
   "execution_count": 7,
   "metadata": {},
   "outputs": [
    {
     "name": "stdout",
     "output_type": "stream",
     "text": [
      "0     1.0\n",
      "1     2.0\n",
      "2     NaN\n",
      "3    90.0\n",
      "4    81.0\n",
      "dtype: float64\n",
      "\n",
      "\n",
      " 0    False\n",
      "1    False\n",
      "2     True\n",
      "3    False\n",
      "4    False\n",
      "dtype: bool\n",
      "\n",
      "\n",
      " 0    False\n",
      "1    False\n",
      "2     True\n",
      "3    False\n",
      "4    False\n",
      "dtype: bool\n"
     ]
    }
   ],
   "source": [
    "import pandas as pd\n",
    "import numpy as np\n",
    "my_record = pd.Series([1,2,np.nan, 90, 81])\n",
    "print(my_record)\n",
    "\n",
    "print('\\n\\n',my_record.isnull())\n",
    "print('\\n\\n',my_record.isna())\n",
    "\n",
    "\n",
    "\n",
    "\n"
   ]
  },
  {
   "cell_type": "markdown",
   "metadata": {},
   "source": [
    "```df.read(r'./csv_path')``` - reads as dataframe <br>\n",
    "```df.head(10)``` - first n number of records.\n",
    "\n",
    "\n"
   ]
  },
  {
   "cell_type": "code",
   "execution_count": 16,
   "metadata": {},
   "outputs": [
    {
     "name": "stdout",
     "output_type": "stream",
     "text": [
      "\n",
      "\n",
      " 179.73809523809524\n"
     ]
    }
   ],
   "source": [
    "df = pd.read_csv(r'./csv_s/president_heights.csv'.replace(\"/\",\"\\\\\"))\n",
    "print('\\n\\n',df.loc[:, 'height(cm)'].mean())\n",
    "\n",
    "\n",
    "# print(df.isna())"
   ]
  },
  {
   "cell_type": "markdown",
   "metadata": {},
   "source": [
    "```count()``` - no.of rows <br>\n",
    "```mean()``` -  <br>\n",
    "```descibe()``` - gives the summary of the dateset <br>\n",
    "```shape [returns (rows, cols)] ``` <br>\n",
    "```sample(n10)``` <br>\n",
    "```illoc - i faster with large dataset ``` <br>\n",
    "```illoc[[0,1]]``` - list, tuple or set, inner bracket is takeing the ranges for selecting the records and outer is the dataframe "
   ]
  },
  {
   "cell_type": "code",
   "execution_count": 33,
   "metadata": {},
   "outputs": [
    {
     "name": "stdout",
     "output_type": "stream",
     "text": [
      "     AGE  HEIGHT  WEIGHT  CHOL   SMOKE BLOOD   MORT\n",
      "139   44     163      64   226    pipe     a  alive\n",
      "37    34     172      71   217  sigare     o  alive\n",
      "85    32     180      69   217  sigare    ab  alive\n",
      "40    48     168      53   280  sigare     a   dead\n",
      "78    24     173      71   218    pipe     a  alive\n",
      "125   43     159      57   280  sigare     o  alive\n",
      "105   52     175      84   227    pipe     o  alive\n",
      "193   37     159      82   256  nonsmo     a  alive\n",
      "122   25     174      76   195  sigare     o  alive\n",
      "36    19     174      74   252  sigare     a  alive\n"
     ]
    },
    {
     "data": {
      "text/plain": [
       "SMOKE   BLOOD  MORT \n",
       "nonsmo  a      alive    1\n",
       "pipe    a      alive    2\n",
       "        o      alive    1\n",
       "sigare  a      alive    1\n",
       "               dead     1\n",
       "        ab     alive    1\n",
       "        o      alive    3\n",
       "dtype: int64"
      ]
     },
     "execution_count": 33,
     "metadata": {},
     "output_type": "execute_result"
    }
   ],
   "source": [
    "import pandas as pd\n",
    "\n",
    "mortality_ds = pd.read_excel(r'./csv_s/Q8_MortalityDataset.xlsx')\n",
    "mortality_ds.head(5)\n",
    "mortality_ds.describe()\n",
    "mortality_ds.shape\n",
    "morsample = mortality_ds.sample(n=10)\n",
    "print(morsample)\n",
    "#illoc  integer location     , igive the index value \n",
    "morsample.iloc[0]\n",
    "morsample.iloc[[]] # outer bracket is for the dataframe and the inner is the list, ranges are giving in the form of list\n",
    "MorHindex = morsample.groupby(['SMOKE', 'BLOOD', 'MORT']).mean()\n",
    "MorHindex = morsample.groupby(['SMOKE', 'BLOOD', 'MORT']).size()\n",
    "MorHindex\n"
   ]
  },
  {
   "cell_type": "code",
   "execution_count": 13,
   "metadata": {},
   "outputs": [
    {
     "name": "stdout",
     "output_type": "stream",
     "text": [
      "Species\n",
      "Iris-setosa        50\n",
      "Iris-versicolor    50\n",
      "Iris-virginica     50\n",
      "dtype: int64\n"
     ]
    },
    {
     "data": {
      "image/png": "[encoded data removed]",
      "text/plain": [
       "<Figure size 640x480 with 1 Axes>"
      ]
     },
     "metadata": {},
     "output_type": "display_data"
    }
   ],
   "source": [
    "#pip install --trusted-host pypi.org --trusted-host pypi.python.org --trusted-host files.pythonhosted matplotlib\n",
    "import numpy as np\n",
    "import matplotlib.pyplot as mat\n",
    "import pandas as pd\n",
    "\n",
    "\n",
    "iris = pd.read_csv(r'./csv_s/Iris - Iris.csv')\n",
    "\n",
    "# print(iris.shape)\n",
    "# print(iris.describe)\n",
    "print(iris.groupby('Species').size())\n",
    "\n",
    "setosa = iris[iris['Species'] == 'Iris-setosa']\n",
    "vesicolor = iris[iris['Species'] == 'Iris-vesicolor']\n",
    "virginica = iris[iris['Species'] == 'Iris-vriginica']\n",
    "\n",
    "setosa['SepalWidthCm'].plot(kind = 'hist', label='setosa', color='g', fontsize=10)\n",
    "mat.title('Scatter-plot histogram')\n",
    "mat.xlabel('SepalWidthCm')\n",
    "mat.show()\n"
   ]
  },
  {
   "cell_type": "code",
   "execution_count": null,
   "metadata": {},
   "outputs": [],
   "source": [
    "Type = list(iris['Species'].unique())\n",
    "count = list(iris['Species'].value_counts())\n",
    "Avg = list(iris.groupby('Species')['SepaLengthCm'].mean())\n",
    "plt.bar(Type, Avg, color = ['maroon', 'yellow', 'blue'], width = 0.4)\n",
    "plt.title('Bar Plot')\n",
    "plt.xlable('SepalLengthCm')\n",
    "plt.ylabel('AverageSepalLengthCm')\n",
    "plt.show()"
   ]
  },
  {
   "cell_type": "code",
   "execution_count": null,
   "metadata": {},
   "outputs": [],
   "source": [
    "e = (0, 0.1, 0)"
   ]
  }
 ],
 "metadata": {
  "kernelspec": {
   "display_name": "Python 3",
   "language": "python",
   "name": "python3"
  },
  "language_info": {
   "codemirror_mode": {
    "name": "ipython",
    "version": 3
   },
   "file_extension": ".py",
   "mimetype": "text/x-python",
   "name": "python",
   "nbconvert_exporter": "python",
   "pygments_lexer": "ipython3",
   "version": "3.11.3"
  },
  "orig_nbformat": 4
 },
 "nbformat": 4,
 "nbformat_minor": 2
}
