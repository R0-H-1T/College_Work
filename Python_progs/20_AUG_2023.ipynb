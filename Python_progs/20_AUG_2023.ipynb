{
 "cells": [
  {
   "cell_type": "code",
   "execution_count": 7,
   "metadata": {},
   "outputs": [
    {
     "ename": "ValueError",
     "evalue": "invalid literal for int() with base 10: 'going'",
     "output_type": "error",
     "traceback": [
      "\u001b[1;31m---------------------------------------------------------------------------\u001b[0m",
      "\u001b[1;31mValueError\u001b[0m                                Traceback (most recent call last)",
      "Cell \u001b[1;32mIn[7], line 8\u001b[0m\n\u001b[0;32m      6\u001b[0m user_input \u001b[39m=\u001b[39m \u001b[39minput\u001b[39m(\u001b[39m'\u001b[39m\u001b[39mEnter company initials, quantity, price and status: \u001b[39m\u001b[39m'\u001b[39m)\u001b[39m.\u001b[39msplit(\u001b[39m'\u001b[39m\u001b[39m \u001b[39m\u001b[39m'\u001b[39m)\n\u001b[0;32m      7\u001b[0m \u001b[39m# print(tuple(map(int, user_input[1:3])))\u001b[39;00m\n\u001b[1;32m----> 8\u001b[0m user_input[\u001b[39m1\u001b[39m] \u001b[39m=\u001b[39m \u001b[39mint\u001b[39;49m(user_input[\u001b[39m1\u001b[39;49m])\n\u001b[0;32m      9\u001b[0m user_input[\u001b[39m2\u001b[39m] \u001b[39m=\u001b[39m \u001b[39mint\u001b[39m(user_input[\u001b[39m2\u001b[39m])\n\u001b[0;32m     10\u001b[0m user_input \u001b[39m=\u001b[39m \u001b[39mtuple\u001b[39m(user_input)\n",
      "\u001b[1;31mValueError\u001b[0m: invalid literal for int() with base 10: 'going'"
     ]
    }
   ],
   "source": [
    "# input_tuple = (('xyz', 55 , 100, 's'), ('abc', 75, 200, 's'), ('xzy', 28, 20, 'b'), ('ahb', 2, 50, 'b'));\n",
    "buy = 0\n",
    "sell = 0\n",
    "user_input = ''\n",
    "while(user_input != 'Im going to call it a night'):\n",
    "    user_input = input('Enter company initials, quantity, price and status: ').split(' ')\n",
    "    user_input = tuple(user_input)\n",
    "    if user_input[3] == 's':\n",
    "        buy += (int(user_input[1]) * int(user_input[2])) \n",
    "    else: \n",
    "        sell += (int(user_input[1]) * int(user_input[2]))\n",
    "\n",
    "\n",
    "\n",
    "\n",
    "print(sell, buy)\n",
    "# for elem in user_input:\n",
    "# while(user_input != \"Im gonna call it night\"):\n",
    "#     for inner_tuple in user_input:\n",
    "#         print(inner_tuple);\n",
    "\n",
    "            \n",
    "#     print(buy, sell)    \n",
    "\n"
   ]
  },
  {
   "cell_type": "code",
   "execution_count": null,
   "metadata": {},
   "outputs": [],
   "source": []
  }
 ],
 "metadata": {
  "kernelspec": {
   "display_name": "Python 3",
   "language": "python",
   "name": "python3"
  },
  "language_info": {
   "codemirror_mode": {
    "name": "ipython",
    "version": 3
   },
   "file_extension": ".py",
   "mimetype": "text/x-python",
   "name": "python",
   "nbconvert_exporter": "python",
   "pygments_lexer": "ipython3",
   "version": "3.11.3"
  },
  "orig_nbformat": 4
 },
 "nbformat": 4,
 "nbformat_minor": 2
}
