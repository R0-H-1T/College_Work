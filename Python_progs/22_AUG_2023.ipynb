{
 "cells": [
  {
   "cell_type": "code",
   "execution_count": 12,
   "metadata": {},
   "outputs": [
    {
     "name": "stdout",
     "output_type": "stream",
     "text": [
      "abcdefghijklmnopqrstuvwxyzABCDEFGHIJKLMNOPQRSTUVWXYZ\n",
      "False\n"
     ]
    }
   ],
   "source": [
    "\n",
    "\n",
    "\n",
    "\n",
    "def isPanagram(user_input:str=''):    \n",
    "    all_letters = 'abcdefghijklmnopqrstuvwxyz'\n",
    "\n",
    "\n",
    "\n",
    "\n",
    "\n",
    "print(all_letters)\n",
    "user_input = input('Lets check if it is a panagram.\\nEnter a sentence').casefold()\n",
    "user_input = user_input.replace(' ', '')\n",
    "\n",
    "\n",
    "if len(set(user_input)) == len(all_letters): print('True')\n",
    "else:   print('False')\n",
    "\n",
    "\n",
    "\n",
    "\n",
    "\n"
   ]
  }
 ],
 "metadata": {
  "kernelspec": {
   "display_name": "Python 3",
   "language": "python",
   "name": "python3"
  },
  "language_info": {
   "codemirror_mode": {
    "name": "ipython",
    "version": 3
   },
   "file_extension": ".py",
   "mimetype": "text/x-python",
   "name": "python",
   "nbconvert_exporter": "python",
   "pygments_lexer": "ipython3",
   "version": "3.11.3"
  },
  "orig_nbformat": 4
 },
 "nbformat": 4,
 "nbformat_minor": 2
}
