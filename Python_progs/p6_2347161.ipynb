{
 "cells": [
  {
   "cell_type": "markdown",
   "metadata": {},
   "source": [
    "# P3 ```2347161``` b"
   ]
  },
  {
   "cell_type": "code",
   "execution_count": null,
   "metadata": {},
   "outputs": [],
   "source": [
    "class Furniture:\n",
    "    def __init__(self, material, color):\n",
    "        self.material = material\n",
    "        self.color = color\n",
    "\n",
    "    def display_info(self):\n",
    "        print(f\"This piece of furniture is made of {self.material} and is {self.color}.\")\n",
    "\n",
    "class Chair(Furniture):\n",
    "    def __init__(self, material, color, legs):\n",
    "        super().__init__(material, color)\n",
    "        self.legs = legs\n",
    "\n",
    "    def display_info(self):\n",
    "        print(f\"This chair is made of {self.material}, is {self.color}, and has {self.legs} legs.\")\n",
    "\n",
    "class Table(Furniture):\n",
    "    def __init__(self, material, color, shape):\n",
    "        super().__init__(material, color)\n",
    "        self.shape = shape\n",
    "\n",
    "    def display_info(self):\n",
    "        print(f\"This table is made of {self.material}, is {self.color}, and has a {self.shape} shape.\")\n",
    "\n",
    "# Create instances of the derived classes\n",
    "wooden_chair = Chair(\"wood\", \"brown\", 4)\n",
    "plastic_table = Table(\"plastic\", \"white\", \"rectangular\")\n",
    "\n",
    "# Display information about the furniture\n",
    "wooden_chair.display_info()\n",
    "plastic_table.display_info()\n"
   ]
  },
  {
   "cell_type": "code",
   "execution_count": 105,
   "metadata": {},
   "outputs": [
    {
     "name": "stdout",
     "output_type": "stream",
     "text": [
      "----------ADMISSION FORM------------\n",
      "Displaying Details: \n",
      "Name: rohit.\n",
      "Register No: 2347161\n",
      "Email: row@gnail.com \n",
      "Phno.: 9067607516\n",
      "DOB: 12 12 2001\n",
      "Payment Option: cash\n"
     ]
    }
   ],
   "source": [
    "import re\n",
    "\n",
    "print('----------ADMISSION FORM------------')\n",
    "name = input('Enter name (first middle last): ')\n",
    "reg_no = input('Enter registeration number: ')\n",
    "phno = input('Enter phone number: ')\n",
    "email = input('Enter email: ')\n",
    "dob = input('Enter date of birth: ')\n",
    "pay_opt = input('Payment option: ')\n",
    "\n",
    "\n",
    "\n",
    "name_pattern = re.compile(r'(Mr|Mrs|Ms|Dr)?\\.?\\s?[a-zA-Z]+\\s?[a-zA-Z]*\\s?[a-zA-Z]*\\.')\n",
    "phno_pattern = re.compile(r'[1-9]{1}[0-9]{9}')\n",
    "reg_pattern  = re.compile(r'\\d{7}')\n",
    "email_pattern = re.compile(r'[a-zA-z0-9.-]+@[a-zA-z]+\\.(com|edu|gov)')\n",
    "dob_pattern = re.compile(r'\\d{2}[./\\s]\\d{2}[./\\s]\\d{4}')\n",
    "payment_pattern = re.compile(r'(cash|upi|card)')\n",
    "\n",
    "\n",
    "\n",
    "\n",
    "my_dict = {\n",
    "     name_pattern : name,\n",
    "     phno_pattern : phno,\n",
    "     reg_pattern : reg_no, \n",
    "     email_pattern : email,\n",
    "     dob_pattern : dob,\n",
    "     payment_pattern : pay_opt\n",
    "}\n",
    "\n",
    "res = [True if re.findall(x,y) else False for x,y in my_dict.items()]\n",
    "\n",
    "if all(res):\n",
    "    print('Displaying Details: ')\n",
    "    print(f'Name: {name}\\nRegister No: {reg_no}\\nEmail: {email} \\nPhno.: {phno}\\nDOB: {dob}\\nPayment Option: {pay_opt}')\n",
    "\n"
   ]
  }
 ],
 "metadata": {
  "kernelspec": {
   "display_name": "Python 3",
   "language": "python",
   "name": "python3"
  },
  "language_info": {
   "codemirror_mode": {
    "name": "ipython",
    "version": 3
   },
   "file_extension": ".py",
   "mimetype": "text/x-python",
   "name": "python",
   "nbconvert_exporter": "python",
   "pygments_lexer": "ipython3",
   "version": "3.11.3"
  },
  "orig_nbformat": 4
 },
 "nbformat": 4,
 "nbformat_minor": 2
}
