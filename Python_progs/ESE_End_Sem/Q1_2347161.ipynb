{
 "cells": [
  {
   "cell_type": "code",
   "execution_count": 15,
   "metadata": {},
   "outputs": [
    {
     "name": "stdout",
     "output_type": "stream",
     "text": [
      "3.6839999999999997\n",
      "  Name  mfr  calories  protein  fat  sodium  fibre  carbo  sugars  shelf   \n",
      "0  NaN  NaN       NaN      NaN  NaN     NaN    NaN    NaN     NaN    NaN  \\\n",
      "\n",
      "   potassium vitamins  \n",
      "0        NaN      NaN  \n"
     ]
    }
   ],
   "source": [
    "import pandas as pd\n",
    "import matplotlib.pyplot as plt\n",
    "\n",
    "uscereal = pd.read_csv(r'./UScereal.csv')\n",
    "\n",
    "# uscereal.head(5)\n",
    "\n",
    "uscereal.describe()\n",
    "\n",
    "\n",
    "print(uscereal['protein'].mean())\n",
    "\n",
    "# print(uscereal['protein'].where(uscereal['protein'] == max(uscereal['protein'])))\n",
    "\n",
    "print(uscereal.where(uscereal['protein'] == max(uscereal['sugars'])).head(1))\n",
    "\n",
    "# uscereal['protein'].head(5)\n",
    "# uscereal.isna()\n",
    "#uscereal.isnull().head(5)\n",
    "\n"
   ]
  },
  {
   "cell_type": "code",
   "execution_count": null,
   "metadata": {},
   "outputs": [],
   "source": [
    "plt.figure(figsize=(10, 6))  # Adjust the figure size as needed\n",
    "plt.scatter(comedy['Audience score %'], comedy['Profitability'], c='b', marker='o', label='Comedy')\n",
    "plt.title('Scatter Plot: Audience Score vs. Profitability (Comedy Genre)')\n",
    "plt.xlabel('Audience Score %')\n",
    "plt.ylabel('Profitability')\n",
    "plt.legend()\n",
    "plt.grid(True)\n",
    "\n",
    "# Show the plot\n",
    "plt.show()"
   ]
  }
 ],
 "metadata": {
  "kernelspec": {
   "display_name": "Python 3",
   "language": "python",
   "name": "python3"
  },
  "language_info": {
   "codemirror_mode": {
    "name": "ipython",
    "version": 3
   },
   "file_extension": ".py",
   "mimetype": "text/x-python",
   "name": "python",
   "nbconvert_exporter": "python",
   "pygments_lexer": "ipython3",
   "version": "3.11.3"
  }
 },
 "nbformat": 4,
 "nbformat_minor": 2
}
