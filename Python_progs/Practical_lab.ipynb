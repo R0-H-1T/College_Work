{
 "cells": [
  {
   "cell_type": "markdown",
   "metadata": {},
   "source": [
    "You are a box office clerk to sell tickets. A new movie has come out and the ticket price for that is 250.\n",
    "There is a queue of people who have Rs. 250, Rs. 500, Rs. 1000. Initially you do not have any money and you want to sell tickets to all giving the change wherever required. Write a function that accepts a list containing money people have and returns 'True' if you can sell tickets to all else false.\n",
    "Example:\n",
    "Input: [250, 250, 500]\n",
    "Output True\n",
    "Input: [250, 500, 500]\n",
    "Output False\n",
    "Input: [250, 1000]\n",
    "Output: False"
   ]
  },
  {
   "cell_type": "code",
   "execution_count": 32,
   "metadata": {},
   "outputs": [
    {
     "name": "stdout",
     "output_type": "stream",
     "text": [
      "False\n",
      "False\n"
     ]
    }
   ],
   "source": [
    "# [250, 500, 500] => true \n",
    "# [250, 100] => false\n",
    "# [250, 250, 500, 500] => true\n",
    "\n",
    "\n",
    "def boolChange(tickets:[int]) -> bool:\n",
    "\n",
    "\n",
    "print(boolChange([250, 250]))\n"
   ]
  },
  {
   "cell_type": "code",
   "execution_count": 31,
   "metadata": {},
   "outputs": [
    {
     "name": "stdout",
     "output_type": "stream",
     "text": [
      "Venue, Hyundai, Compact SUV, 17, 50\n",
      "Tank is full\n",
      "Venue, Hyundai, Compact SUV, 50, 50\n",
      "Warning!\n",
      "Fuel level is below 3 ltrs\n",
      "WOW! I am driving Venue\n",
      "Venue, Hyundai, Compact SUV, 10, 50\n"
     ]
    }
   ],
   "source": [
    "\n",
    "\n",
    "class Vehicle:\n",
    "    def __init__(self, brand:str, model:str, type:str) -> None:\n",
    "        self.brand = brand\n",
    "        self.model = model\n",
    "        self.type = type\n",
    "        \n",
    "    def Drive(self):\n",
    "        print('WOW! I am driving {}'.format(self.model))\n",
    "\n",
    "    #Overiding\n",
    "    def __str__(self):\n",
    "        return f'{self.model}, {self.brand}, {self.type}'\n",
    "    \n",
    "\n",
    "class CarFuelTank(Vehicle):\n",
    "    def __init__(self, brand:str, model:str, type:str, fuel_tank_size:int, fuel_level:int):\n",
    "        # Vehicle.__init__(self, self.brand, self.model, self.type)\n",
    "        super().__init__(brand, model, type)\n",
    "        self.fuel_level = fuel_level\n",
    "        self.fuel_tank_size = fuel_tank_size\n",
    "\n",
    "    def FullTank(self):\n",
    "        self.fuel_level = self.fuel_tank_size\n",
    "        print('Tank is full')\n",
    "\n",
    "    def update_fuel_tank(self, consumed):\n",
    "        self.fuel_level -= consumed\n",
    "        if self.fuel_level > 3:\n",
    "            print('Warning!\\nFuel level is below 3 ltrs')\n",
    "        \n",
    "    def GetFuel(self, add_fuel):\n",
    "        if self.fuel_level + add_fuel > self.fuel_tank_size:\n",
    "            print('Warning!\\nFuel level is exceeding the capacity of the tank\\n\\nFuel tank full')\n",
    "            self.fuel_level = self.fuel_tank_size\n",
    "        else:\n",
    "            self.fuel_level += add_fuel\n",
    "\n",
    "    def __str__(self):\n",
    "        return f'{self.model}, {self.brand}, {self.type}, {self.fuel_level}, {self.fuel_tank_size}'\n",
    "\n",
    "\n",
    "# crteate two objects of vehicle and call function:\n",
    "car1 = Vehicle('Skoda','Skoda', 'Hatch back')\n",
    "car1 = Vehicle('Hyundai','Venue', 'Compact SUV')\n",
    "\n",
    "\n",
    "car2 = Vehicle('Maruti', 'Suzuki', 'Hatch back')\n",
    "# print(car2)\n",
    "# car2.Drive()\n",
    "\n",
    "\n",
    "\n",
    "car1 = CarFuelTank('Hyundai','Venue', 'Compact SUV', fuel_tank_size=50, fuel_level=17)\n",
    "print(car1)\n",
    "car1.FullTank()\n",
    "print(car1)\n",
    "car1.update_fuel_tank(40)\n",
    "car1.Drive()\n",
    "print(car1)\n",
    "\n"
   ]
  }
 ],
 "metadata": {
  "kernelspec": {
   "display_name": "Python 3",
   "language": "python",
   "name": "python3"
  },
  "language_info": {
   "codemirror_mode": {
    "name": "ipython",
    "version": 3
   },
   "file_extension": ".py",
   "mimetype": "text/x-python",
   "name": "python",
   "nbconvert_exporter": "python",
   "pygments_lexer": "ipython3",
   "version": "3.11.3"
  },
  "orig_nbformat": 4
 },
 "nbformat": 4,
 "nbformat_minor": 2
}
