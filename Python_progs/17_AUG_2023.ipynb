{
 "cells": [
  {
   "cell_type": "code",
   "execution_count": 1,
   "metadata": {},
   "outputs": [
    {
     "name": "stdout",
     "output_type": "stream",
     "text": [
      "Area of rectange:  200\n",
      "Area of rectange:  18.0\n"
     ]
    }
   ],
   "source": [
    "from abc import ABC, abstractmethod\n",
    "\n",
    "class Shape:\n",
    "    @abstractmethod\n",
    "    def area(self) -> None:\n",
    "        pass\n",
    "\n",
    "class Rectangle(Shape):\n",
    "    def __init__(self,x , y) -> None:\n",
    "        self.l = x\n",
    "        self.b = y\n",
    "\n",
    "    def area(self): return self.l * self.b\n",
    "\n",
    "class Triangle(Shape):\n",
    "    def __init__(self,x , y) -> None:\n",
    "        self.l = x\n",
    "        self.b = y\n",
    "\n",
    "    def area(self): return (self.l * self.b)/2\n",
    "\n",
    "\n",
    "r = Rectangle(10, 20)\n",
    "print('Area of rectange: ', r.area())\n",
    "t = Triangle(12, 3)\n",
    "print('Area of rectange: ', t.area())\n",
    "    \n"
   ]
  },
  {
   "cell_type": "markdown",
   "metadata": {},
   "source": [
    "#### Excpetion handling in python\n"
   ]
  },
  {
   "cell_type": "code",
   "execution_count": 1,
   "metadata": {},
   "outputs": [
    {
     "name": "stdout",
     "output_type": "stream",
     "text": [
      "Hello\n"
     ]
    }
   ],
   "source": [
    "# a = [12, 34, 12, 543, 2]\n",
    "\n",
    "\n",
    "# def letsTry(a):\n",
    "#     try:\n",
    "#         print(a[10])\n",
    "#     except IndexError:\n",
    "#         print('Index out of range bro')\n",
    "#     except Exception as e:\n",
    "#         print('So finally exception worked')\n",
    "#     finally:\n",
    "#         print('try catch works')\n",
    "\n",
    "# letsTry(a) \n",
    "# letsTry\n",
    "\n",
    "\n",
    "\n",
    "try:\n",
    "    pass\n",
    "except:\n",
    "    pass\n",
    "else:\n",
    "    pass\n",
    "finally:\n",
    "\n"
   ]
  },
  {
   "cell_type": "markdown",
   "metadata": {},
   "source": [
    "### My Practice <br>\n",
    "1. Operator Overloading "
   ]
  },
  {
   "cell_type": "code",
   "execution_count": 3,
   "metadata": {},
   "outputs": [
    {
     "name": "stdout",
     "output_type": "stream",
     "text": [
      "140 63\n"
     ]
    }
   ],
   "source": [
    "class Student:\n",
    "    def __init__(self, m1, m2) -> None:\n",
    "        self.m1 = m1\n",
    "        self.m2 = m2\n",
    "    \n",
    "    def __add__(self, other_stud1):\n",
    "        return Student(self.m1 + other_stud1.m1, self.m2 + other_stud1.m2)\n",
    "\n",
    "    # def __gt__(self, other_stud1):\n",
    "        \n",
    "s1 = Student(90, 45)\n",
    "s2 = Student(50, 18)\n",
    "s3 = s1 + s2\n",
    "print(s3.m1, s3.m2)\n"
   ]
  },
  {
   "cell_type": "code",
   "execution_count": 18,
   "metadata": {},
   "outputs": [
    {
     "name": "stdout",
     "output_type": "stream",
     "text": [
      "1915573532864\n",
      "1915573533664\n"
     ]
    }
   ],
   "source": [
    "from datetime import date\n",
    "class Person:\n",
    "    def __init__(self, name, age, gender):\n",
    "        self.name = name\n",
    "        self.age = age\n",
    "        self.gender = gender\n",
    "    \n",
    "    def calculateDOB(self):\n",
    "        print(date.month)\n",
    "\n",
    "    \n",
    "\n",
    "def listop(takeList):\n",
    "    takeList += \"no cool at all\"\n",
    "    print(id(takeList))\n",
    "\n",
    "my_list = \"hello and welcome\"\n",
    "print(id(my_list))\n",
    "listop(my_list)\n",
    "\n",
    "\n"
   ]
  }
 ],
 "metadata": {
  "kernelspec": {
   "display_name": "Python 3",
   "language": "python",
   "name": "python3"
  },
  "language_info": {
   "codemirror_mode": {
    "name": "ipython",
    "version": 3
   },
   "file_extension": ".py",
   "mimetype": "text/x-python",
   "name": "python",
   "nbconvert_exporter": "python",
   "pygments_lexer": "ipython3",
   "version": "3.11.3"
  },
  "orig_nbformat": 4
 },
 "nbformat": 4,
 "nbformat_minor": 2
}
