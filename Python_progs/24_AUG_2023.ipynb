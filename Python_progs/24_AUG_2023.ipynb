{
 "cells": [
  {
   "cell_type": "markdown",
   "metadata": {},
   "source": [
    "```match()``` <br>\n",
    "```search()``` - searches the whole string and returns the index <br> \n",
    " 1. ```span()``` - <br>\n",
    "\n",
    "\n",
    "```group()``` - <br>\n",
    "```findall()``` - <br>\n",
    "```split()``` - <br>\n",
    "```sub()``` - <br>"
   ]
  },
  {
   "cell_type": "code",
   "execution_count": 14,
   "metadata": {},
   "outputs": [
    {
     "name": "stdout",
     "output_type": "stream",
     "text": [
      "16 17\n",
      "[(0, '0'), (1, '2'), (2, '2'), (3, '5'), (4, '3'), (5, '1'), (6, '2'), (7, '3')]\n",
      "['the', 'the']\n"
     ]
    }
   ],
   "source": [
    "import re\n",
    "\n",
    "\n",
    "my_str = \"Lets use C to learn C\"\n",
    "\n",
    "\n",
    "\n",
    "match = re.search(r'\\.', 'the learning of .python program')\n",
    "#print(type(match))\n",
    "print(match.start(), match.end())   \n",
    "\n",
    "mydict = {}\n",
    "print([ (x,y) for x,y in enumerate(re.findall(\"[0-5]\", \"on the 90 2 2 HTML5 CSS3 not 123\"))])\n",
    "my_regex = r'^us'\n",
    "\n",
    "\n",
    "text = \"the quick brown fox jumps over the lazy dog\"\n",
    "print(re.findall(r'the', text))\n",
    "\n",
    "\n"
   ]
  }
 ],
 "metadata": {
  "kernelspec": {
   "display_name": "Python 3",
   "language": "python",
   "name": "python3"
  },
  "language_info": {
   "codemirror_mode": {
    "name": "ipython",
    "version": 3
   },
   "file_extension": ".py",
   "mimetype": "text/x-python",
   "name": "python",
   "nbconvert_exporter": "python",
   "pygments_lexer": "ipython3",
   "version": "3.11.3"
  },
  "orig_nbformat": 4
 },
 "nbformat": 4,
 "nbformat_minor": 2
}
