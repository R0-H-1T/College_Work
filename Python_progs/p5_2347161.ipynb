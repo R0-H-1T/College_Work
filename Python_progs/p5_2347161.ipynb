{
 "cells": [
  {
   "cell_type": "code",
   "execution_count": 2,
   "metadata": {},
   "outputs": [
    {
     "name": "stdout",
     "output_type": "stream",
     "text": [
      "Age: 21\n",
      "Invalid age dob entered\n",
      "\n",
      "Incorrect dob format. Your date should be in format - dd/mm/yyyy. Example: 12/12/2001. Try again.\n",
      "\n",
      "Bye! Hope you run this program again.\n"
     ]
    }
   ],
   "source": [
    "from datetime import datetime\n",
    "\n",
    "def get_age_from_dob(dob_str):\n",
    "    try:\n",
    "        dob = datetime.strptime(dob_str, '%d/%m/%Y')\n",
    "        today = datetime.today()\n",
    "        age = today.year - dob.year - ((today.month, today.day) < (dob.month, dob.day))\n",
    "        return age\n",
    "    except ValueError:\n",
    "        return None\n",
    " \n",
    "def whats_the_input():\n",
    "    while True:\n",
    "        user_input = input('Enter your dob in dd/mm/yyyy format (q to quit): ')\n",
    "        if user_input.lower() == 'q':\n",
    "            print('\\nBye! Hope you run this program again.')\n",
    "            break\n",
    "        else:\n",
    "            age = get_age_from_dob(user_input)\n",
    "            if age is not None:\n",
    "                if age > 0:\n",
    "                    print('Age:', age)\n",
    "                else:\n",
    "                    print('Invalid age dob entered')\n",
    "            else:\n",
    "                print('\\nIncorrect dob format. Your date should be in format - dd/mm/yyyy. Example: 12/12/2001. Try again.')\n",
    "\n",
    "whats_the_input()"
   ]
  }
 ],
 "metadata": {
  "kernelspec": {
   "display_name": "Python 3",
   "language": "python",
   "name": "python3"
  },
  "language_info": {
   "codemirror_mode": {
    "name": "ipython",
    "version": 3
   },
   "file_extension": ".py",
   "mimetype": "text/x-python",
   "name": "python",
   "nbconvert_exporter": "python",
   "pygments_lexer": "ipython3",
   "version": "3.11.3"
  },
  "orig_nbformat": 4
 },
 "nbformat": 4,
 "nbformat_minor": 2
}
