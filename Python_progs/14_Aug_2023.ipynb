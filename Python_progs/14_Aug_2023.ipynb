{
 "cells": [
  {
   "cell_type": "markdown",
   "metadata": {},
   "source": [
    "### Inheritance in Python\n",
    "\n",
    "**Single** <br>\n",
    "**Multiple**  <br>\n",
    "**Multilevel**  <br>\n",
    "**Hybrid**  <br>\n",
    "**Hierarchical**  <br>\n"
   ]
  },
  {
   "cell_type": "code",
   "execution_count": 3,
   "metadata": {},
   "outputs": [
    {
     "name": "stdout",
     "output_type": "stream",
     "text": [
      "School name:  Christ College\n",
      "Department name:  School of science\n",
      "None\n"
     ]
    }
   ],
   "source": [
    "class School:\n",
    "    def __init__(self, schoolname):\n",
    "        self.schoolname = schoolname\n",
    "    \n",
    "    def print_name(self):\n",
    "        print('School name: ', self.schoolname);\n",
    "        print('Department name: ', self.departmentname);\n",
    "\n",
    "class Department(School):\n",
    "    def __init__(self, departmentname, schoolname):\n",
    "        self.departmentname = departmentname\n",
    "        School.__init__(self, schoolname)\n",
    "    \n",
    "schl1 = Department('School of science', 'Christ College');\n",
    "schl1.print_name()\n",
    "\n"
   ]
  },
  {
   "cell_type": "code",
   "execution_count": 4,
   "metadata": {},
   "outputs": [
    {
     "ename": "SyntaxError",
     "evalue": "expected '(' (3911279019.py, line 1)",
     "output_type": "error",
     "traceback": [
      "\u001b[1;36m  Cell \u001b[1;32mIn[4], line 1\u001b[1;36m\u001b[0m\n\u001b[1;33m    def supplier:\u001b[0m\n\u001b[1;37m                ^\u001b[0m\n\u001b[1;31mSyntaxError\u001b[0m\u001b[1;31m:\u001b[0m expected '('\n"
     ]
    }
   ],
   "source": [
    "class Electricity():\n",
    "    def on(self,):\n",
    "        self.on = bool=True\n",
    "    \n",
    "\n",
    "class Switch(Electricity):\n",
    "    def switch_on_off(self, turn_on:bool=False):\n",
    "        if Electricity.on: \n",
    "            self.swith = input('Switch On/Off?: ')\n",
    "\n",
    "\n",
    "class Fan(Switch, Electricity):\n",
    "    def check():\n",
    "        if Electricity.on: print('Fan is on ')\n",
    "        "
   ]
  },
  {
   "cell_type": "code",
   "execution_count": null,
   "metadata": {},
   "outputs": [],
   "source": []
  }
 ],
 "metadata": {
  "kernelspec": {
   "display_name": "Python 3",
   "language": "python",
   "name": "python3"
  },
  "language_info": {
   "codemirror_mode": {
    "name": "ipython",
    "version": 3
   },
   "file_extension": ".py",
   "mimetype": "text/x-python",
   "name": "python",
   "nbconvert_exporter": "python",
   "pygments_lexer": "ipython3",
   "version": "3.11.3"
  },
  "orig_nbformat": 4
 },
 "nbformat": 4,
 "nbformat_minor": 2
}
